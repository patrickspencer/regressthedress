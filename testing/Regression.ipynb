{
 "cells": [
  {
   "cell_type": "code",
   "execution_count": 275,
   "metadata": {
    "collapsed": true
   },
   "outputs": [],
   "source": [
    "import re\n",
    "import numpy as np\n",
    "import pandas as pd\n",
    "from wombat.models import Item\n",
    "import matplotlib.pyplot as plt\n",
    "from sklearn import linear_model\n",
    "from sklearn.externals import joblib\n",
    "from wombat.models import dbsession, engine\n",
    "\n",
    "\n",
    "\n",
    "plt.style.use('ggplot')\n",
    "plt.rcParams[\"figure.figsize\"] = (20,10)\n",
    "%matplotlib inline\n",
    "\n",
    "# res = find_by_item_type(\"dresses\")\n",
    "query = \"\"\"SELECT I.id, I.brand, I.item_type, I.cost,\n",
    "    I.rent_per_week, I.year_purchased\n",
    "    FROM items I\"\"\"\n",
    "df = pd.read_sql_query(query, engine)"
   ]
  },
  {
   "cell_type": "code",
   "execution_count": 276,
   "metadata": {},
   "outputs": [],
   "source": [
    "# Make a list of most frequent brands of the form 'BCBG', 'BCBGMAXAZRIA','Alice + Olivia', etc...\n",
    "top_brands_query = \"SELECT brand, count(brand) FROM items WHERE brand != 'LENDER SUBMISSION FILL IN' GROUP BY brand ORDER BY count(brand) DESC;\"\n",
    "top_brand_df = pd.read_sql_query(top_brands_query, engine)\n",
    "top_brands = [\"\\'{}\\'\".format(brand.replace(\"'\", \"''\")) for brand in brand_df['brand']]\n",
    "top_brands = ', '.join(top_brands)"
   ]
  },
  {
   "cell_type": "code",
   "execution_count": 277,
   "metadata": {
    "scrolled": false
   },
   "outputs": [],
   "source": [
    "query = \"SELECT brand, item_type, cost, rent_per_week FROM items WHERE brand in ({})\".format(top_brands)\n",
    "df = pd.read_sql_query(query, engine)\n",
    "\n",
    "# get one-hot columns for brands \n",
    "dummy_bs = pd.get_dummies(df['brand'])\n",
    "dummified_df = pd.concat([df, dummy_bs], axis = 1)\n",
    "dummified_df = dummified_df.drop('brand', axis = 1)\n",
    "\n",
    "# get one-hot columns for brands\n",
    "dummified_items = pd.get_dummies(df['item_type'])\n",
    "dummified_items = pd.concat([dummified_df, dummified_items], axis = 1)\n",
    "df = dummified_items.drop('item_type', axis = 1)"
   ]
  },
  {
   "cell_type": "code",
   "execution_count": 279,
   "metadata": {},
   "outputs": [
    {
     "name": "stdout",
     "output_type": "stream",
     "text": [
      "Number of observations in the training data: 4511\n",
      "Number of observations in the test data: 1493\n"
     ]
    }
   ],
   "source": [
    "# split data into train and test group\n",
    "df['is_train'] = np.random.uniform(0, 1, len(df)) <= .75\n",
    "train, test = df[df['is_train']==True], df[df['is_train']==False]\n",
    "\n",
    "print('Number of observations in the training data:', len(train))\n",
    "print('Number of observations in the test data:', len(test))"
   ]
  },
  {
   "cell_type": "code",
   "execution_count": 280,
   "metadata": {},
   "outputs": [
    {
     "data": {
      "text/plain": [
       "LinearRegression(copy_X=True, fit_intercept=True, n_jobs=1, normalize=False)"
      ]
     },
     "execution_count": 280,
     "metadata": {},
     "output_type": "execute_result"
    }
   ],
   "source": [
    "y = train['rent_per_week']\n",
    "features = df.columns.drop('rent_per_week') # just column names\n",
    "\n",
    "reg = linear_model.LinearRegression()\n",
    "reg.fit(train[features], train['rent_per_week'])\n",
    "#joblib.dump(reg, 'filename.pkl')\n",
    "#call this with: clf = joblib.load('filename.pkl') "
   ]
  },
  {
   "cell_type": "code",
   "execution_count": 281,
   "metadata": {
    "scrolled": true
   },
   "outputs": [
    {
     "name": "stderr",
     "output_type": "stream",
     "text": [
      "/home/patrick/.virtualenvs/stylelend/lib/python3.5/site-packages/ipykernel_launcher.py:1: SettingWithCopyWarning: \n",
      "A value is trying to be set on a copy of a slice from a DataFrame.\n",
      "Try using .loc[row_indexer,col_indexer] = value instead\n",
      "\n",
      "See the caveats in the documentation: http://pandas.pydata.org/pandas-docs/stable/indexing.html#indexing-view-versus-copy\n",
      "  \"\"\"Entry point for launching an IPython kernel.\n",
      "/home/patrick/.virtualenvs/stylelend/lib/python3.5/site-packages/ipykernel_launcher.py:4: SettingWithCopyWarning: \n",
      "A value is trying to be set on a copy of a slice from a DataFrame.\n",
      "Try using .loc[row_indexer,col_indexer] = value instead\n",
      "\n",
      "See the caveats in the documentation: http://pandas.pydata.org/pandas-docs/stable/indexing.html#indexing-view-versus-copy\n",
      "  after removing the cwd from sys.path.\n"
     ]
    },
    {
     "data": {
      "text/plain": [
       "0.51706171862775596"
      ]
     },
     "execution_count": 281,
     "metadata": {},
     "output_type": "execute_result"
    }
   ],
   "source": [
    "test['predicted_rent'] = reg.predict(test[features])\n",
    "def r2 (row):\n",
    "   return row['predicted_rent'] - row['rent_per_week']\n",
    "test['rent_difference'] = test.apply(lambda row: r2(row), axis=1)\n",
    "reg.score(train[features], train['rent_per_week'])"
   ]
  },
  {
   "cell_type": "code",
   "execution_count": 282,
   "metadata": {},
   "outputs": [
    {
     "data": {
      "text/plain": [
       "RandomForestRegressor(bootstrap=True, criterion='mse', max_depth=None,\n",
       "           max_features='auto', max_leaf_nodes=None,\n",
       "           min_impurity_split=1e-07, min_samples_leaf=1,\n",
       "           min_samples_split=2, min_weight_fraction_leaf=0.0,\n",
       "           n_estimators=10, n_jobs=1, oob_score=False, random_state=None,\n",
       "           verbose=0, warm_start=False)"
      ]
     },
     "execution_count": 282,
     "metadata": {},
     "output_type": "execute_result"
    }
   ],
   "source": [
    "clf = RandomForestRegressor()\n",
    "clf.fit(train[features], train['rent_per_week'])"
   ]
  },
  {
   "cell_type": "code",
   "execution_count": 284,
   "metadata": {},
   "outputs": [],
   "source": [
    "rfr_pred = clf.predict(test[features]).astype(int)"
   ]
  },
  {
   "cell_type": "code",
   "execution_count": 288,
   "metadata": {},
   "outputs": [
    {
     "name": "stderr",
     "output_type": "stream",
     "text": [
      "/home/patrick/.virtualenvs/stylelend/lib/python3.5/site-packages/ipykernel_launcher.py:2: SettingWithCopyWarning: \n",
      "A value is trying to be set on a copy of a slice from a DataFrame.\n",
      "Try using .loc[row_indexer,col_indexer] = value instead\n",
      "\n",
      "See the caveats in the documentation: http://pandas.pydata.org/pandas-docs/stable/indexing.html#indexing-view-versus-copy\n",
      "  \n",
      "/home/patrick/.virtualenvs/stylelend/lib/python3.5/site-packages/ipykernel_launcher.py:5: SettingWithCopyWarning: \n",
      "A value is trying to be set on a copy of a slice from a DataFrame.\n",
      "Try using .loc[row_indexer,col_indexer] = value instead\n",
      "\n",
      "See the caveats in the documentation: http://pandas.pydata.org/pandas-docs/stable/indexing.html#indexing-view-versus-copy\n",
      "  \"\"\"\n"
     ]
    },
    {
     "data": {
      "text/plain": [
       "2       5.438450e+04\n",
       "3       3.390049e+04\n",
       "4       8.343375e+03\n",
       "12      5.402344e+01\n",
       "17      7.914972e+10\n",
       "24      7.914971e+10\n",
       "25      2.318492e+03\n",
       "27      8.346094e+02\n",
       "29      3.233294e+04\n",
       "39      2.826289e+03\n",
       "43      7.914964e+10\n",
       "48      9.339879e+04\n",
       "49     -1.834664e+04\n",
       "51      7.860938e+01\n",
       "53     -5.310234e+02\n",
       "54      3.859297e+02\n",
       "55     -2.237031e+02\n",
       "61     -8.333359e+02\n",
       "67     -7.254688e+01\n",
       "68      1.142645e+05\n",
       "73      1.106922e+05\n",
       "76      1.122138e+05\n",
       "84     -4.670422e+03\n",
       "87      8.462578e+02\n",
       "100     7.257188e+02\n",
       "105     5.234172e+03\n",
       "106     3.593227e+03\n",
       "120     6.453594e+03\n",
       "121    -4.798598e+04\n",
       "124    -4.999983e+04\n",
       "            ...     \n",
       "5889    7.914972e+10\n",
       "5890    2.470800e+04\n",
       "5898   -5.689844e+02\n",
       "5899   -6.927695e+03\n",
       "5904    2.448491e+04\n",
       "5905    2.433176e+04\n",
       "5912    6.312305e+03\n",
       "5918    8.346110e+04\n",
       "5921    2.554331e+13\n",
       "5922   -8.816719e+02\n",
       "5929    2.302207e+04\n",
       "5930    2.265625e-01\n",
       "5933   -2.879750e+03\n",
       "5937    3.254930e+04\n",
       "5938   -1.763406e+03\n",
       "5939    5.460711e+03\n",
       "5941    8.126230e+04\n",
       "5946    2.222656e+01\n",
       "5953    7.914973e+10\n",
       "5962    6.752145e+04\n",
       "5965   -1.081180e+03\n",
       "5967   -5.081242e+03\n",
       "5972    7.914971e+10\n",
       "5978    6.574828e+03\n",
       "5983    1.752602e+03\n",
       "5986    2.432676e+04\n",
       "5987    7.914973e+10\n",
       "5991    1.903192e+04\n",
       "5992    8.124830e+04\n",
       "5996   -2.222094e+03\n",
       "Name: rent_difference, Length: 1493, dtype: float64"
      ]
     },
     "execution_count": 288,
     "metadata": {},
     "output_type": "execute_result"
    }
   ],
   "source": [
    "#sklearn.metrics.confusion_matrix(test[features.drop('is_train')], rfr_pred)\n",
    "test['predicted_rent'] = reg.predict(test[features])\n",
    "def r2 (row):\n",
    "   return row['predicted_rent'] - row['rent_per_week']\n",
    "test['rent_difference'] = test.apply(lambda row: r2(row), axis=1)\n",
    "df2 = test[features.drop('is_train')]\n",
    "test['rent_difference']"
   ]
  },
  {
   "cell_type": "code",
   "execution_count": 271,
   "metadata": {
    "collapsed": true
   },
   "outputs": [
    {
     "name": "stdout",
     "output_type": "stream",
     "text": [
      "Number of observations in the training data: 4697\n",
      "Number of observations in the test data: 1571\n"
     ]
    },
    {
     "ename": "ValueError",
     "evalue": "could not convert string to float: 'Alice + Olivia'",
     "output_type": "error",
     "traceback": [
      "\u001b[0;31m---------------------------------------------------------------------------\u001b[0m",
      "\u001b[0;31mValueError\u001b[0m                                Traceback (most recent call last)",
      "\u001b[0;32m<ipython-input-271-f7d8d300be8d>\u001b[0m in \u001b[0;36m<module>\u001b[0;34m()\u001b[0m\n\u001b[1;32m     15\u001b[0m \u001b[0;34m\u001b[0m\u001b[0m\n\u001b[1;32m     16\u001b[0m \u001b[0mreg\u001b[0m \u001b[0;34m=\u001b[0m \u001b[0mlinear_model\u001b[0m\u001b[0;34m.\u001b[0m\u001b[0mLinearRegression\u001b[0m\u001b[0;34m(\u001b[0m\u001b[0;34m)\u001b[0m\u001b[0;34m\u001b[0m\u001b[0m\n\u001b[0;32m---> 17\u001b[0;31m \u001b[0mreg\u001b[0m\u001b[0;34m.\u001b[0m\u001b[0mfit\u001b[0m\u001b[0;34m(\u001b[0m\u001b[0mtrain\u001b[0m\u001b[0;34m[\u001b[0m\u001b[0mfeatures\u001b[0m\u001b[0;34m]\u001b[0m\u001b[0;34m,\u001b[0m \u001b[0mtrain\u001b[0m\u001b[0;34m[\u001b[0m\u001b[0;34m'rent_per_week'\u001b[0m\u001b[0;34m]\u001b[0m\u001b[0;34m)\u001b[0m\u001b[0;34m\u001b[0m\u001b[0m\n\u001b[0m",
      "\u001b[0;32m~/.virtualenvs/stylelend/lib/python3.5/site-packages/sklearn/linear_model/base.py\u001b[0m in \u001b[0;36mfit\u001b[0;34m(self, X, y, sample_weight)\u001b[0m\n\u001b[1;32m    510\u001b[0m         \u001b[0mn_jobs_\u001b[0m \u001b[0;34m=\u001b[0m \u001b[0mself\u001b[0m\u001b[0;34m.\u001b[0m\u001b[0mn_jobs\u001b[0m\u001b[0;34m\u001b[0m\u001b[0m\n\u001b[1;32m    511\u001b[0m         X, y = check_X_y(X, y, accept_sparse=['csr', 'csc', 'coo'],\n\u001b[0;32m--> 512\u001b[0;31m                          y_numeric=True, multi_output=True)\n\u001b[0m\u001b[1;32m    513\u001b[0m \u001b[0;34m\u001b[0m\u001b[0m\n\u001b[1;32m    514\u001b[0m         \u001b[0;32mif\u001b[0m \u001b[0msample_weight\u001b[0m \u001b[0;32mis\u001b[0m \u001b[0;32mnot\u001b[0m \u001b[0;32mNone\u001b[0m \u001b[0;32mand\u001b[0m \u001b[0mnp\u001b[0m\u001b[0;34m.\u001b[0m\u001b[0matleast_1d\u001b[0m\u001b[0;34m(\u001b[0m\u001b[0msample_weight\u001b[0m\u001b[0;34m)\u001b[0m\u001b[0;34m.\u001b[0m\u001b[0mndim\u001b[0m \u001b[0;34m>\u001b[0m \u001b[0;36m1\u001b[0m\u001b[0;34m:\u001b[0m\u001b[0;34m\u001b[0m\u001b[0m\n",
      "\u001b[0;32m~/.virtualenvs/stylelend/lib/python3.5/site-packages/sklearn/utils/validation.py\u001b[0m in \u001b[0;36mcheck_X_y\u001b[0;34m(X, y, accept_sparse, dtype, order, copy, force_all_finite, ensure_2d, allow_nd, multi_output, ensure_min_samples, ensure_min_features, y_numeric, warn_on_dtype, estimator)\u001b[0m\n\u001b[1;32m    519\u001b[0m     X = check_array(X, accept_sparse, dtype, order, copy, force_all_finite,\n\u001b[1;32m    520\u001b[0m                     \u001b[0mensure_2d\u001b[0m\u001b[0;34m,\u001b[0m \u001b[0mallow_nd\u001b[0m\u001b[0;34m,\u001b[0m \u001b[0mensure_min_samples\u001b[0m\u001b[0;34m,\u001b[0m\u001b[0;34m\u001b[0m\u001b[0m\n\u001b[0;32m--> 521\u001b[0;31m                     ensure_min_features, warn_on_dtype, estimator)\n\u001b[0m\u001b[1;32m    522\u001b[0m     \u001b[0;32mif\u001b[0m \u001b[0mmulti_output\u001b[0m\u001b[0;34m:\u001b[0m\u001b[0;34m\u001b[0m\u001b[0m\n\u001b[1;32m    523\u001b[0m         y = check_array(y, 'csr', force_all_finite=True, ensure_2d=False,\n",
      "\u001b[0;32m~/.virtualenvs/stylelend/lib/python3.5/site-packages/sklearn/utils/validation.py\u001b[0m in \u001b[0;36mcheck_array\u001b[0;34m(array, accept_sparse, dtype, order, copy, force_all_finite, ensure_2d, allow_nd, ensure_min_samples, ensure_min_features, warn_on_dtype, estimator)\u001b[0m\n\u001b[1;32m    400\u001b[0m         \u001b[0;31m# make sure we actually converted to numeric:\u001b[0m\u001b[0;34m\u001b[0m\u001b[0;34m\u001b[0m\u001b[0m\n\u001b[1;32m    401\u001b[0m         \u001b[0;32mif\u001b[0m \u001b[0mdtype_numeric\u001b[0m \u001b[0;32mand\u001b[0m \u001b[0marray\u001b[0m\u001b[0;34m.\u001b[0m\u001b[0mdtype\u001b[0m\u001b[0;34m.\u001b[0m\u001b[0mkind\u001b[0m \u001b[0;34m==\u001b[0m \u001b[0;34m\"O\"\u001b[0m\u001b[0;34m:\u001b[0m\u001b[0;34m\u001b[0m\u001b[0m\n\u001b[0;32m--> 402\u001b[0;31m             \u001b[0marray\u001b[0m \u001b[0;34m=\u001b[0m \u001b[0marray\u001b[0m\u001b[0;34m.\u001b[0m\u001b[0mastype\u001b[0m\u001b[0;34m(\u001b[0m\u001b[0mnp\u001b[0m\u001b[0;34m.\u001b[0m\u001b[0mfloat64\u001b[0m\u001b[0;34m)\u001b[0m\u001b[0;34m\u001b[0m\u001b[0m\n\u001b[0m\u001b[1;32m    403\u001b[0m         \u001b[0;32mif\u001b[0m \u001b[0;32mnot\u001b[0m \u001b[0mallow_nd\u001b[0m \u001b[0;32mand\u001b[0m \u001b[0marray\u001b[0m\u001b[0;34m.\u001b[0m\u001b[0mndim\u001b[0m \u001b[0;34m>=\u001b[0m \u001b[0;36m3\u001b[0m\u001b[0;34m:\u001b[0m\u001b[0;34m\u001b[0m\u001b[0m\n\u001b[1;32m    404\u001b[0m             raise ValueError(\"Found array with dim %d. %s expected <= 2.\"\n",
      "\u001b[0;31mValueError\u001b[0m: could not convert string to float: 'Alice + Olivia'"
     ]
    }
   ],
   "source": [
    "# try random forest regression without dummifying variables first\n",
    "# this ended up not working. It said, \"Cannot convert string to float\"\n",
    "# which leads me to believe it was looking for a number instead of a category\n",
    "# this means the original way of one-hoting the categories was correct.\n",
    "df = pd.read_sql_query(query, engine)\n",
    "# split data into train and test group\n",
    "df['is_train'] = np.random.uniform(0, 1, len(df)) <= .75\n",
    "train, test = df[df['is_train']==True], df[df['is_train']==False]\n",
    "\n",
    "print('Number of observations in the training data:', len(train))\n",
    "print('Number of observations in the test data:', len(test))\n",
    "\n",
    "y = train['rent_per_week']\n",
    "features = df.columns.drop('rent_per_week') # just column names\n",
    "\n",
    "reg = linear_model.LinearRegression()\n",
    "reg.fit(train[features], train['rent_per_week'])"
   ]
  },
  {
   "cell_type": "code",
   "execution_count": null,
   "metadata": {
    "collapsed": true
   },
   "outputs": [],
   "source": []
  }
 ],
 "metadata": {
  "kernelspec": {
   "display_name": "Python 3",
   "language": "python",
   "name": "python3"
  },
  "language_info": {
   "codemirror_mode": {
    "name": "ipython",
    "version": 3
   },
   "file_extension": ".py",
   "mimetype": "text/x-python",
   "name": "python",
   "nbconvert_exporter": "python",
   "pygments_lexer": "ipython3",
   "version": "3.5.3"
  }
 },
 "nbformat": 4,
 "nbformat_minor": 2
}
