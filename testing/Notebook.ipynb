{
 "cells": [
  {
   "cell_type": "code",
   "execution_count": 1,
   "metadata": {
    "collapsed": true
   },
   "outputs": [],
   "source": [
    "import pandas as pd\n",
    "from sqlalchemy import exists\n",
    "from stylelend.models import dbsession, engine\n",
    "from stylelend.models.items import Item\n",
    "from stylelend.models.rentalitems import RentalItem\n",
    "from stylelend.models.rentals import Rental"
   ]
  },
  {
   "cell_type": "code",
   "execution_count": 5,
   "metadata": {
    "collapsed": true
   },
   "outputs": [],
   "source": [
    "items = dbsession.query(Item).all()\n",
    "# res = find_by_item_type(\"dresses\")\n",
    "query = \"SELECT I.id, I.brand, I.item_type, I.cost, I.sku, \\\n",
    "    I.rent_per_week, I.created_at, I.title, I.description, \\\n",
    "    I.year_purchased, I.rent_per_week, \\\n",
    "    R.rental_date, R.return_date, \\\n",
    "    RI.item_price, RI.refunded, RI.fit_return, \\\n",
    "    RI.created_at, \\\n",
    "    RI.updated_at \\\n",
    "    FROM items I \\\n",
    "    LEFT JOIN rental_items RI ON I.id = RI.item_id \\\n",
    "    LEFT JOIN rentals R ON R.id = RI.rental_id;\"\n",
    "df = pd.read_sql_query(query, engine)"
   ]
  },
  {
   "cell_type": "code",
   "execution_count": 6,
   "metadata": {},
   "outputs": [
    {
     "name": "stdout",
     "output_type": "stream",
     "text": [
      "6268\n"
     ]
    }
   ],
   "source": [
    "print(len(items))"
   ]
  },
  {
   "cell_type": "code",
   "execution_count": 7,
   "metadata": {},
   "outputs": [
    {
     "data": {
      "text/plain": [
       "Index(['id', 'brand', 'item_type', 'cost', 'sku', 'rent_per_week',\n",
       "       'created_at', 'title', 'description', 'year_purchased', 'rent_per_week',\n",
       "       'rental_date', 'return_date', 'item_price', 'refunded', 'fit_return',\n",
       "       'created_at', 'updated_at'],\n",
       "      dtype='object')"
      ]
     },
     "execution_count": 7,
     "metadata": {},
     "output_type": "execute_result"
    }
   ],
   "source": [
    "df.columns"
   ]
  },
  {
   "cell_type": "code",
   "execution_count": null,
   "metadata": {
    "collapsed": true
   },
   "outputs": [],
   "source": []
  }
 ],
 "metadata": {
  "kernelspec": {
   "display_name": "Python 3",
   "language": "python",
   "name": "python3"
  },
  "language_info": {
   "codemirror_mode": {
    "name": "ipython",
    "version": 3
   },
   "file_extension": ".py",
   "mimetype": "text/x-python",
   "name": "python",
   "nbconvert_exporter": "python",
   "pygments_lexer": "ipython3",
   "version": "3.5.3"
  }
 },
 "nbformat": 4,
 "nbformat_minor": 2
}
