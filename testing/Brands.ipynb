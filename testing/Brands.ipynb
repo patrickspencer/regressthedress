{
 "cells": [
  {
   "cell_type": "code",
   "execution_count": 11,
   "metadata": {
    "collapsed": true
   },
   "outputs": [],
   "source": [
    "import os\n",
    "import re\n",
    "import sklearn\n",
    "import numpy as np\n",
    "import pandas as pd\n",
    "from wombat.engine import ml_model\n",
    "from wombat.engine.parse_input_description import create_one_hot_row_brand_keyword\n",
    "from wombat.models import Brand\n",
    "import matplotlib.pyplot as plt\n",
    "from wombat.models import dbsession, engine"
   ]
  },
  {
   "cell_type": "code",
   "execution_count": 12,
   "metadata": {},
   "outputs": [],
   "source": [
    "df_brands = pd.read_sql_query('SELECT * FROM \"brands\"', con=engine)\n",
    "\n",
    "brands = df_brands['name'].values\n",
    "keywords = df_brands['keywords'].values\n",
    "\n",
    "df = ml_model.canonical_df\n",
    "\n",
    "# unknown brands are brands we pull from the large df. \n",
    "# They may be mislabeled so we need to sort them and one-hot them to a known list of brands\n",
    "unknown_brands = df['brand'].values\n",
    "\n",
    "one_hotted_brands = []\n",
    "\n",
    "for unknown_brand in unknown_brands:\n",
    "    one_hotted_brands.append(create_one_hot_row_brand_keyword(unknown_brand, keywords))"
   ]
  },
  {
   "cell_type": "code",
   "execution_count": 10,
   "metadata": {},
   "outputs": [
    {
     "name": "stdout",
     "output_type": "stream",
     "text": [
      "[0, 0, 0, 1, 0, 0, 0, 0, 0, 0, 0, 0, 0, 0, 0, 0, 0, 0, 0, 0, 0, 0, 0, 0, 0, 0, 0, 0, 0, 0, 0, 0, 0, 0, 0, 0, 0, 0, 0, 0, 0, 0, 0, 0, 0, 0, 0, 0, 0, 0, 0, 0, 0, 0, 0, 0, 0, 0, 0, 0, 0, 0, 0, 0, 0, 0, 0, 0, 0, 0, 0, 0, 0, 0, 0, 0, 0, 0, 0, 0, 0, 0, 0, 0, 0, 0, 0, 0, 0, 0, 0, 0, 0, 0, 0, 0, 0, 0, 0, 0, 0, 0, 0, 0, 0, 0, 0, 0, 0, 0, 0, 0, 0, 0, 0, 0, 0, 0, 0, 0, 0, 0, 0, 0, 0, 0, 0, 0, 0, 0, 0, 0, 0, 0, 0, 0, 0, 0, 0, 0, 0, 0, 0, 0, 0, 0, 0, 0, 0, 0, 0, 0, 0, 0, 0, 0, 0, 0, 0, 0, 0, 0, 0, 0, 0, 0, 0, 0, 0, 0, 0, 0, 0, 0, 0, 0, 0, 0, 0, 0, 0, 0, 0, 0, 0, 0, 0, 0, 0, 0, 0, 0, 0, 0, 0, 0, 0, 0, 0, 0, 0, 0, 0, 0, 0, 0, 0, 0, 0, 0, 0, 0, 0, 0, 0, 0, 0, 0, 0, 0, 0]\n",
      "For Love & Lemons\n",
      "['other' 'Tadashi Shoji' 'Alice + Olivia' 'For Love & Lemons'\n",
      " 'Adrianna Papell' 'Parker' 'Nicole Miller' 'Dress the Population'\n",
      " 'Lovers + Friends' 'Halston Heritage' 'Chanel' 'Elizabeth and James'\n",
      " 'Herve Leger' 'Calvin Klein' 'Trina Turk' 'Mara Hoffman' 'Self-Portrait'\n",
      " 'Milly' 'Suno' 'DVF']\n"
     ]
    }
   ],
   "source": [
    "print(one_hotted_brands[9])\n",
    "print(unknown_brands[9])\n",
    "print(brands[0:20])\n",
    "df_brands = pd.DataFrame(one_hotted_brands, columns = brands, index = df.index.values)"
   ]
  }
 ],
 "metadata": {
  "kernelspec": {
   "display_name": "Python 3",
   "language": "python",
   "name": "python3"
  },
  "language_info": {
   "codemirror_mode": {
    "name": "ipython",
    "version": 3
   },
   "file_extension": ".py",
   "mimetype": "text/x-python",
   "name": "python",
   "nbconvert_exporter": "python",
   "pygments_lexer": "ipython3",
   "version": "3.5.3"
  }
 },
 "nbformat": 4,
 "nbformat_minor": 2
}
