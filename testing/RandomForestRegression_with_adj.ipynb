{
 "cells": [
  {
   "cell_type": "code",
   "execution_count": 6,
   "metadata": {},
   "outputs": [],
   "source": [
    "import re\n",
    "import sklearn\n",
    "import numpy as np\n",
    "import pandas as pd\n",
    "from wombat.engine import ml_model\n",
    "from wombat.engine import parse_input_description as parse_title\n",
    "from wombat.models import Item\n",
    "import matplotlib.pyplot as plt\n",
    "from sklearn import linear_model\n",
    "from sklearn.externals import joblib\n",
    "from sklearn.ensemble import RandomForestRegressor\n",
    "from wombat.models import dbsession, engine, ItemType, ItemAdjective\n",
    "%matplotlib inline\n",
    "plt.style.use('ggplot')\n",
    "plt.rcParams[\"figure.figsize\"] = (20,12)\n"
   ]
  },
  {
   "cell_type": "code",
   "execution_count": 63,
   "metadata": {},
   "outputs": [
    {
     "data": {
      "text/plain": [
       "<function TextIOWrapper.close>"
      ]
     },
     "execution_count": 63,
     "metadata": {},
     "output_type": "execute_result"
    }
   ],
   "source": [
    "# Make a list of most frequent brands of the form 'BCBG', 'BCBGMAXAZRIA','Alice + Olivia', etc...\n",
    "top_brands_query = \"SELECT brand, count(brand) FROM items WHERE brand != 'LENDER SUBMISSION FILL IN' AND rent_per_week < 1000 GROUP BY brand ORDER BY count(brand) DESC;\"\n",
    "top_brand_df = pd.read_sql_query(top_brands_query, engine)\n",
    "top_brands = [\"\\'{}\\'\".format(brand.replace(\"'\", \"''\")) for brand in top_brand_df['brand']]\n",
    "top_brands = ', '.join(top_brands)"
   ]
  },
  {
   "cell_type": "code",
   "execution_count": 20,
   "metadata": {},
   "outputs": [],
   "source": [
    "#query = \"SELECT brand, item_type, cost, rent_per_week FROM items WHERE brand in ({}) AND rent_per_week < 600\".format(top_brands)\n",
    "#df = pd.read_sql_query(query, engine)\n",
    "df = ml_model.canonical_df\n",
    "\n",
    "# get one-hot columns for brands \n",
    "dummy_brands = pd.get_dummies(df['brand'])\n",
    "df = pd.concat([df, dummy_brands], axis = 1)\n",
    "\n",
    "df = df.drop('brand', axis = 1)\n",
    "\n",
    "# get one-hot columns for item_types\n",
    "dummified_items = pd.get_dummies(df['item_type'])\n",
    "df = pd.concat([df, dummified_items], axis = 1)\n",
    "df = df.drop('item_type', axis = 1)\n",
    "df_brands = df"
   ]
  },
  {
   "cell_type": "code",
   "execution_count": 58,
   "metadata": {},
   "outputs": [],
   "source": [
    "# get list of adjective features form database\n",
    "features_adj = [f.name for f in dbsession.query(ItemAdjective).all()]\n",
    "item_types   = [item.name for item in dbsession.query(ItemType).all()]\n",
    "\n",
    "df = ml_model.canonical_df\n",
    "parse_title.create_one_hot_row_adj('chiffon mini', features_adj)\n",
    "df['title'].values\n",
    "tokenized_titles = []\n",
    "for title in df['title']:\n",
    "    parse_title.create_one_hot_row_adj(title, features_adj)\n",
    "    tokenized_titles.append(parse_title.create_one_hot_row_adj(title, features_adj))\n",
    "df_adj = pd.DataFrame(tokenized_titles, columns = features_adj)"
   ]
  },
  {
   "cell_type": "code",
   "execution_count": 60,
   "metadata": {},
   "outputs": [],
   "source": [
    "df_full = pd.concat([df_brands, df_adj], axis = 1)"
   ]
  },
  {
   "cell_type": "code",
   "execution_count": 77,
   "metadata": {},
   "outputs": [
    {
     "data": {
      "text/plain": [
       "<matplotlib.axes._subplots.AxesSubplot at 0x7fe0012c64a8>"
      ]
     },
     "execution_count": 77,
     "metadata": {},
     "output_type": "execute_result"
    },
    {
     "data": {
      "image/png": "[encoded data removed]",
      "text/plain": [
       "<matplotlib.figure.Figure at 0x7fe0012dbac8>"
      ]
     },
     "metadata": {},
     "output_type": "display_data"
    }
   ],
   "source": [
    "df.boxplot('rent_per_week')"
   ]
  },
  {
   "cell_type": "code",
   "execution_count": 24,
   "metadata": {},
   "outputs": [
    {
     "name": "stdout",
     "output_type": "stream",
     "text": [
      "Number of observations in the training data: 4272\n",
      "Number of observations in the test data: 1490\n"
     ]
    }
   ],
   "source": [
    "# split data into train and test group\n",
    "df = df_full\n",
    "df['is_train'] = np.random.uniform(0, 1, len(df)) <= .75\n",
    "train, test = df[df['is_train']==True], df[df['is_train']==False]\n",
    "\n",
    "print('Number of observations in the training data:', len(train))\n",
    "print('Number of observations in the test data:', len(test))"
   ]
  },
  {
   "cell_type": "code",
   "execution_count": null,
   "metadata": {},
   "outputs": [],
   "source": [
    "y = train['rent_per_week']\n",
    "features = df_full.columns.drop(['rent_per_week', 'title']) # just column names"
   ]
  },
  {
   "cell_type": "code",
   "execution_count": null,
   "metadata": {
    "collapsed": true
   },
   "outputs": [],
   "source": [
    "import sys\n",
    "sys.stdout=open(\"test.txt\",\"w\")\n",
    "print(df_full)\n",
    "sys.stdout.close()"
   ]
  },
  {
   "cell_type": "code",
   "execution_count": null,
   "metadata": {},
   "outputs": [],
   "source": [
    "clf = RandomForestRegressor()\n",
    "clf.fit(train[features], train['rent_per_week'])\n",
    "#joblib.dump(clf, 'rfr_v0.2.pkl')\n",
    "#call this with: clf = joblib.load('rfr_v0.2.pkl')"
   ]
  },
  {
   "cell_type": "code",
   "execution_count": null,
   "metadata": {},
   "outputs": [],
   "source": [
    "rfr_predicted = clf.predict(test[features]).astype(int)\n",
    "fig, ax = plt.subplots(figsize=(20, 10))\n",
    "y = test['rent_per_week']\n",
    "print(test['rent_per_week'].max())\n",
    "ax.scatter(x = test['rent_per_week'], y = rfr_predicted)\n",
    "ax.plot([0, 200], [0, 200], 'k--', lw=4)\n",
    "ax.set_xlabel('Measured', fontsize=18)\n",
    "ax.set_ylabel('Predicted', fontsize=18)\n",
    "y.max()"
   ]
  },
  {
   "cell_type": "code",
   "execution_count": null,
   "metadata": {
    "collapsed": true
   },
   "outputs": [],
   "source": []
  }
 ],
 "metadata": {
  "kernelspec": {
   "display_name": "Python 3",
   "language": "python",
   "name": "python3"
  },
  "language_info": {
   "codemirror_mode": {
    "name": "ipython",
    "version": 3
   },
   "file_extension": ".py",
   "mimetype": "text/x-python",
   "name": "python",
   "nbconvert_exporter": "python",
   "pygments_lexer": "ipython3",
   "version": "3.5.3"
  }
 },
 "nbformat": 4,
 "nbformat_minor": 2
}
